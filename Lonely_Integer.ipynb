{
 "cells": [
  {
   "cell_type": "code",
   "execution_count": 14,
   "metadata": {},
   "outputs": [
    {
     "name": "stdout",
     "output_type": "stream",
     "text": [
      "not_rep =  3\n"
     ]
    }
   ],
   "source": [
    "\n",
    "'''\n",
    "題目 : \n",
    "找出arr中唯一數\n",
    "\n",
    "範圍 : \n",
    "index唯一且是奇數\n",
    "1 <= n < 100\n",
    "0 <= a[i] <= 100\n",
    "0 <= i < n\n",
    "\n",
    "解題方向 : \n",
    "以二進制度判斷是否重複\n",
    "沒有重複的抓出來\n",
    "'''\n",
    "\n",
    "def LonelyInteger(arr) : \n",
    "    # 二進制0000 0000\n",
    "    not_rep = 0 \n",
    "\n",
    "    for i in arr : \n",
    "        # 轉換二進制判斷是否有重複\n",
    "        not_rep ^= i\n",
    "\n",
    "    print(\"not_rep = \", not_rep)\n",
    "\n",
    "if __name__ == \"__main__\" : \n",
    "    arr = [1, 2, 3, 4, 5, 6, 5, 4, 3, 2, 1]\n",
    "    \n",
    "    LonelyInteger(arr)"
   ]
  }
 ],
 "metadata": {
  "interpreter": {
   "hash": "b3ba2566441a7c06988d0923437866b63cedc61552a5af99d1f4fb67d367b25f"
  },
  "kernelspec": {
   "display_name": "Python 3.8.8 ('base')",
   "language": "python",
   "name": "python3"
  },
  "language_info": {
   "codemirror_mode": {
    "name": "ipython",
    "version": 3
   },
   "file_extension": ".py",
   "mimetype": "text/x-python",
   "name": "python",
   "nbconvert_exporter": "python",
   "pygments_lexer": "ipython3",
   "version": "3.8.8"
  },
  "orig_nbformat": 4
 },
 "nbformat": 4,
 "nbformat_minor": 2
}
